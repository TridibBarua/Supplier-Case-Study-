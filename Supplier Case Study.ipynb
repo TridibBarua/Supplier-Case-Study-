{
 "cells": [
  {
   "cell_type": "code",
   "execution_count": null,
   "metadata": {},
   "outputs": [],
   "source": [
    "# The code below is used to rank each supplier, by assigning each of them a 'score', a numerical value. A higher value is better.\n",
    "# The score is generated using a formula, which combines product category and relative demand as variables. \n",
    "\n",
    "# Since there are 5 different product categories, and for each product category, they can have 5 different demand types, there are a total\n",
    "# of 25 different category-demand pairs, for instance Low demand Electronics or Medium demand Apparel being 2 of them.\n",
    "\n",
    "# Each category-demand pair is assigned a weighting from 1-10. Additionally, each product category and demand type is also assigned \n",
    "# a weighting  from 1-10. The category-demand pair weighting is determined by taking the average of the respective category weighting and\n",
    "# demand weighting. For instance, the pair (High demand, Food/Beverages & Tobacco) has a weighting of (8 + 8) / 2 = 8, and this is done \n",
    "# for all 25 pairs. The weightings for the different categories, demands, and the pairs are stored in dictionaries and can be found below.\n",
    "\n",
    "# The weightings for each pair are then multiplied by the number products the respective supplier has in that category-demand pair. So if \n",
    "# a supplier has 50 products in the (High demand, Food/Beverages & Tobacco) pair, that is multiplied by that pairs weighting; 8. This is done \n",
    "# for each pair, so there are 25 terms in total. These terms are then all summed and divided by 1000 to arrive at the score for the supplier. \n",
    "\n",
    "# Therefore, score = ((# products in category x and with y demand) * weighting + the 24 other terms) / 1000.  "
   ]
  },
  {
   "cell_type": "code",
   "execution_count": 1,
   "metadata": {},
   "outputs": [],
   "source": [
    "# Import libraries\n",
    "import pandas as pd"
   ]
  },
  {
   "cell_type": "code",
   "execution_count": 6,
   "metadata": {},
   "outputs": [
    {
     "data": {
      "text/html": [
       "<div>\n",
       "<style scoped>\n",
       "    .dataframe tbody tr th:only-of-type {\n",
       "        vertical-align: middle;\n",
       "    }\n",
       "\n",
       "    .dataframe tbody tr th {\n",
       "        vertical-align: top;\n",
       "    }\n",
       "\n",
       "    .dataframe thead th {\n",
       "        text-align: right;\n",
       "    }\n",
       "</style>\n",
       "<table border=\"1\" class=\"dataframe\">\n",
       "  <thead>\n",
       "    <tr style=\"text-align: right;\">\n",
       "      <th></th>\n",
       "      <th>Popularity rank within category</th>\n",
       "      <th>Relative demand</th>\n",
       "      <th>Product Category</th>\n",
       "      <th>Supplier</th>\n",
       "    </tr>\n",
       "  </thead>\n",
       "  <tbody>\n",
       "    <tr>\n",
       "      <th>0</th>\n",
       "      <td>1</td>\n",
       "      <td>Very high</td>\n",
       "      <td>Electronics</td>\n",
       "      <td>Mars</td>\n",
       "    </tr>\n",
       "    <tr>\n",
       "      <th>1</th>\n",
       "      <td>2</td>\n",
       "      <td>Very high</td>\n",
       "      <td>Apparel &amp; Accessories</td>\n",
       "      <td>Mercury</td>\n",
       "    </tr>\n",
       "    <tr>\n",
       "      <th>2</th>\n",
       "      <td>2</td>\n",
       "      <td>Very high</td>\n",
       "      <td>Food, Beverages &amp; Tobacco</td>\n",
       "      <td>Earth</td>\n",
       "    </tr>\n",
       "    <tr>\n",
       "      <th>3</th>\n",
       "      <td>2</td>\n",
       "      <td>Very high</td>\n",
       "      <td>Electronics</td>\n",
       "      <td>Mars</td>\n",
       "    </tr>\n",
       "    <tr>\n",
       "      <th>4</th>\n",
       "      <td>3</td>\n",
       "      <td>Very high</td>\n",
       "      <td>Apparel &amp; Accessories</td>\n",
       "      <td>Mercury</td>\n",
       "    </tr>\n",
       "    <tr>\n",
       "      <th>...</th>\n",
       "      <td>...</td>\n",
       "      <td>...</td>\n",
       "      <td>...</td>\n",
       "      <td>...</td>\n",
       "    </tr>\n",
       "    <tr>\n",
       "      <th>1017</th>\n",
       "      <td>498</td>\n",
       "      <td>Low</td>\n",
       "      <td>Baby &amp; Toddler</td>\n",
       "      <td>Venus</td>\n",
       "    </tr>\n",
       "    <tr>\n",
       "      <th>1018</th>\n",
       "      <td>498</td>\n",
       "      <td>Low</td>\n",
       "      <td>Apparel &amp; Accessories</td>\n",
       "      <td>Venus</td>\n",
       "    </tr>\n",
       "    <tr>\n",
       "      <th>1019</th>\n",
       "      <td>499</td>\n",
       "      <td>Low</td>\n",
       "      <td>Apparel &amp; Accessories</td>\n",
       "      <td>Venus</td>\n",
       "    </tr>\n",
       "    <tr>\n",
       "      <th>1020</th>\n",
       "      <td>499</td>\n",
       "      <td>Very low</td>\n",
       "      <td>Electronics</td>\n",
       "      <td>Mars</td>\n",
       "    </tr>\n",
       "    <tr>\n",
       "      <th>1021</th>\n",
       "      <td>500</td>\n",
       "      <td>Low</td>\n",
       "      <td>Baby &amp; Toddler</td>\n",
       "      <td>Venus</td>\n",
       "    </tr>\n",
       "  </tbody>\n",
       "</table>\n",
       "<p>1022 rows × 4 columns</p>\n",
       "</div>"
      ],
      "text/plain": [
       "      Popularity rank within category Relative demand  \\\n",
       "0                                   1       Very high   \n",
       "1                                   2       Very high   \n",
       "2                                   2       Very high   \n",
       "3                                   2       Very high   \n",
       "4                                   3       Very high   \n",
       "...                               ...             ...   \n",
       "1017                              498             Low   \n",
       "1018                              498             Low   \n",
       "1019                              499             Low   \n",
       "1020                              499        Very low   \n",
       "1021                              500             Low   \n",
       "\n",
       "               Product Category Supplier  \n",
       "0                   Electronics     Mars  \n",
       "1         Apparel & Accessories  Mercury  \n",
       "2     Food, Beverages & Tobacco    Earth  \n",
       "3                   Electronics     Mars  \n",
       "4         Apparel & Accessories  Mercury  \n",
       "...                         ...      ...  \n",
       "1017             Baby & Toddler    Venus  \n",
       "1018      Apparel & Accessories    Venus  \n",
       "1019      Apparel & Accessories    Venus  \n",
       "1020                Electronics     Mars  \n",
       "1021             Baby & Toddler    Venus  \n",
       "\n",
       "[1022 rows x 4 columns]"
      ]
     },
     "execution_count": 6,
     "metadata": {},
     "output_type": "execute_result"
    }
   ],
   "source": [
    "# Import Data\n",
    "data = pd.read_csv(\"C:/Users/tridi/Desktop/Transformed-Data.csv\")\n",
    "data"
   ]
  },
  {
   "cell_type": "code",
   "execution_count": 2,
   "metadata": {},
   "outputs": [],
   "source": [
    "# Dictionary with demand type and their weightings as key value pairs. For example, \"VHD\" -> Very High Demand has a weighting of 10.\n",
    "demand_dict = {\"VHD\":10, \"HD\":8, \"M\":5, \"L\":2, \"VL\":1}\n",
    "# Dictionary with product category and their weightings key value pairs. For instance electronics has the highest weighting of 10 since its \n",
    "# the most important category.\n",
    "category_dict = {\"Electronics\":10, \"Food, Beverages, & Tobbaco\":8, \"Toys & Games\":6, \"Apparel & Accessories\":4, \"Baby & Toddler\":2}\n",
    "combined_dict = {}\n",
    "\n",
    "# Takes in category_dict C, demand_dict D, and combined_dict N, mutates and returns N\n",
    "# Returns a dictionary with product type as keys and a list of 5 numbers as values, where the numbers in the list are the weightings of each\n",
    "# category-demand pair. The numbers in each list are sorted by association with each demand, with the first number associating with the\n",
    "# highest demand and the last number associating with the lowest demand.  \n",
    "def combine(C, D, N):\n",
    "  for category in C:\n",
    "    N[category] = []\n",
    "    for demand in D:\n",
    "      N[category] += [(D[demand] + C[category]) / 2]\n",
    "  return N"
   ]
  },
  {
   "cell_type": "code",
   "execution_count": 3,
   "metadata": {},
   "outputs": [
    {
     "name": "stdout",
     "output_type": "stream",
     "text": [
      "[['Electronics', 'Very high', 0], ['Electronics', 'High', 0], ['Electronics', 'Medium', 0], ['Electronics', 'Low', 0], ['Electronics', 'Very low', 0], ['Food, Beverages, & Tobbaco', 'Very high', 0], ['Food, Beverages, & Tobbaco', 'High', 0], ['Food, Beverages, & Tobbaco', 'Medium', 0], ['Food, Beverages, & Tobbaco', 'Low', 0], ['Food, Beverages, & Tobbaco', 'Very low', 0], ['Toys & Games', 'Very high', 0], ['Toys & Games', 'High', 0], ['Toys & Games', 'Medium', 0], ['Toys & Games', 'Low', 0], ['Toys & Games', 'Very low', 0], ['Apparel & Accessories', 'Very high', 0], ['Apparel & Accessories', 'High', 0], ['Apparel & Accessories', 'Medium', 0], ['Apparel & Accessories', 'Low', 0], ['Apparel & Accessories', 'Very low', 0], ['Baby & Toddler', 'Very high', 0], ['Baby & Toddler', 'High', 0], ['Baby & Toddler', 'Medium', 0], ['Baby & Toddler', 'Low', 0], ['Baby & Toddler', 'Very low', 0]]\n"
     ]
    }
   ],
   "source": [
    "# List of the different demands, sorted in order of priority. \n",
    "demand = [\"Very high\", \"High\", \"Medium\", \"Low\", \"Very low\"]\n",
    "# List of the different categories, sorted in order of importance.\n",
    "categories = [\"Electronics\", \"Food, Beverages, & Tobbaco\", \"Toys & Games\", \"Apparel & Accessories\", \"Baby & Toddler\"]\n",
    "\n",
    "# Takes in list categories L, list demand M, and empty list E and mutates and returns E, a list of lists\n",
    "def list_dict(L, M):\n",
    "  E = []  \n",
    "  for category in L:\n",
    "    for demand in M:\n",
    "      E += [[category, demand, 0]]\n",
    "  return E\n",
    "\n",
    "# The function returns a directory of each category-demand pair and the number of products in that pair. This template is then sent to the\n",
    "# count_values function below, and populates the directory with the inventory numbers for a certain supplier.   \n",
    "print(list_dict(categories, demand))"
   ]
  },
  {
   "cell_type": "code",
   "execution_count": 7,
   "metadata": {},
   "outputs": [
    {
     "name": "stdout",
     "output_type": "stream",
     "text": [
      "[['Electronics', 'Very high', 5], ['Electronics', 'High', 13], ['Electronics', 'Medium', 40], ['Electronics', 'Low', 0], ['Electronics', 'Very low', 0], ['Food, Beverages, & Tobbaco', 'Very high', 0], ['Food, Beverages, & Tobbaco', 'High', 0], ['Food, Beverages, & Tobbaco', 'Medium', 0], ['Food, Beverages, & Tobbaco', 'Low', 0], ['Food, Beverages, & Tobbaco', 'Very low', 0], ['Toys & Games', 'Very high', 0], ['Toys & Games', 'High', 0], ['Toys & Games', 'Medium', 0], ['Toys & Games', 'Low', 0], ['Toys & Games', 'Very low', 0], ['Apparel & Accessories', 'Very high', 12], ['Apparel & Accessories', 'High', 26], ['Apparel & Accessories', 'Medium', 2], ['Apparel & Accessories', 'Low', 2], ['Apparel & Accessories', 'Very low', 0], ['Baby & Toddler', 'Very high', 0], ['Baby & Toddler', 'High', 0], ['Baby & Toddler', 'Medium', 32], ['Baby & Toddler', 'Low', 1], ['Baby & Toddler', 'Very low', 0]]\n"
     ]
    }
   ],
   "source": [
    "# count_values: counts the number of products a supplier has in a specific category-demand pair. \n",
    "# Returns a list of 25 lists, where each list contains the category, demand, and the number of products in that pair.\n",
    "# As an example, one list could be [Toys & Games, Low demand, 14] \n",
    "def count_values(supplier):\n",
    "  O = list_dict(categories, demand)\n",
    "  for j in range(len(O)):\n",
    "    for i in range(len(data)):\n",
    "      if (supplier == data[\"Supplier\"][i]) and (O[j][0] == data[\"Product Category\"][i]) and (O[j][1] == data[\"Relative demand\"][i]):\n",
    "        O[j][2] += 1\n",
    "  return O\n",
    "\n",
    "# Find inventory statistics for each supplier\n",
    "mars_values = count_values(\"Mars\")\n",
    "earth_values = count_values(\"Earth\")\n",
    "venus_values = count_values(\"Venus\")\n",
    "mercury_values = count_values(\"Mercury\")\n",
    "\n",
    "# The inventory statistics for Mercury are shown below as an example\n",
    "print(mercury_values)\n"
   ]
  },
  {
   "cell_type": "code",
   "execution_count": 8,
   "metadata": {},
   "outputs": [
    {
     "name": "stdout",
     "output_type": "stream",
     "text": [
      "{'Mars': 2.68, 'Earth': 0.18, 'Venus': 0.932, 'Mercury': 0.836}\n"
     ]
    }
   ],
   "source": [
    "# find_score: determines the score for a certain supplier\n",
    "def find_score(supplier_stats):\n",
    "    N = combine(category_dict, demand_dict, combined_dict) \n",
    "    score_list = []\n",
    "    for i in range(len(supplier_stats)):\n",
    "      term = supplier_stats[i][2] * N[supplier_stats[i][0]][i % 5]\n",
    "      score_list.append(term)\n",
    "    return sum(score_list)  \n",
    "\n",
    "# Determine score for each supplier\n",
    "mars_score = find_score(mars_values) / 1000\n",
    "earth_score = find_score(earth_values) / 1000\n",
    "venus_score = find_score(venus_values) / 1000\n",
    "mercury_score = find_score(mercury_values) / 1000\n",
    "\n",
    "# Organize score results for each supplier into a dictionary\n",
    "results = {\"Mars\":mars_score, \"Earth\":earth_score, \"Venus\":venus_score, \"Mercury\":mercury_score}\n",
    "print(results)"
   ]
  },
  {
   "cell_type": "code",
   "execution_count": null,
   "metadata": {},
   "outputs": [],
   "source": [
    "# As we can see, Mars has a large advantage over other suppliers. "
   ]
  }
 ],
 "metadata": {
  "kernelspec": {
   "display_name": "Python 3.10.6 ('minimal_ds')",
   "language": "python",
   "name": "python3"
  },
  "language_info": {
   "codemirror_mode": {
    "name": "ipython",
    "version": 3
   },
   "file_extension": ".py",
   "mimetype": "text/x-python",
   "name": "python",
   "nbconvert_exporter": "python",
   "pygments_lexer": "ipython3",
   "version": "3.10.6"
  },
  "orig_nbformat": 4,
  "vscode": {
   "interpreter": {
    "hash": "9d85ba14efc6b724adb061fe8b7692c126783d01a45f46e588d8bc97bfe30fa8"
   }
  }
 },
 "nbformat": 4,
 "nbformat_minor": 2
}
